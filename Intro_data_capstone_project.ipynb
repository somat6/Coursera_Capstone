{
 "cells": [
  {
   "cell_type": "markdown",
   "metadata": {},
   "source": [
    "# Capstone project\n",
    "Sofia Nord"
   ]
  },
  {
   "cell_type": "markdown",
   "metadata": {},
   "source": [
    "## Introduction"
   ]
  },
  {
   "cell_type": "markdown",
   "metadata": {},
   "source": [
    "Manhattan Island is in the center of New York City and is a center of attention for tourism, education, residential, shopping, sports activities and job employment. Manhattan is well known for the various activities you can do when visiting the area.\n",
    "\n",
    "During the last years, the interest in a healthy lifestyle has increased with focus on eating locally produced, organic and unsprayed food. Therefore a friend of mine has hired me as a contractor to investigate what neighborhood on Manhattan that could be a suitable area to establish a healthy food store in.\n"
   ]
  },
  {
   "cell_type": "markdown",
   "metadata": {},
   "source": [
    "## Objective"
   ]
  },
  {
   "cell_type": "markdown",
   "metadata": {},
   "source": [
    "What neighborhood on Manhattan is most suitable for establishment of a new healthy food store?\n",
    "\n",
    "In this project, the Manhattan area will be studied in details by using data from Foursquare and using machine learning techniques for segmentation and clustering. By using segmentation and clustering, this project aim to determine in which neighborhood on Manhattan it is most suitable to establish a new healthy food store when having in mind competition and location of gyms, metro stations, residential buildings/apartments and offices. \n"
   ]
  },
  {
   "cell_type": "markdown",
   "metadata": {},
   "source": [
    "## Data"
   ]
  },
  {
   "cell_type": "markdown",
   "metadata": {},
   "source": [
    "The data of the different neighborhoods on Manhattan and their longitude and latitude data are acquired via a link that was used in one of the labs from week 3 in the capstone course:\n",
    "https://ibm.box.com/shared/static/fbpwbovar7lf8p5sgddm06cgipa2rxpe.json\n",
    "\n",
    "\n",
    "From Foursquare following venue data for all neighborhood on Manhattan will be used for segmentation and clustering:\n",
    "\n",
    "•\tLocation of existing healthy food stores\n",
    "\n",
    "•\tLocation of gym/fitness centers\n",
    "\n",
    "•\tLocation of offices\n",
    "\n",
    "•\tLocation of metro stations\n",
    "\n",
    "•\tLocation of residential buildings/apartments\n",
    "\n",
    "\n",
    "Please note, the amount and accuracy of data captured can not 100% determine correct classification in real world. The data will be leveraged in order to determine which neighborhood is the most appropriate for establishment of a new healthy food store. \n"
   ]
  }
 ],
 "metadata": {
  "kernelspec": {
   "display_name": "Python 3",
   "language": "python",
   "name": "python3"
  },
  "language_info": {
   "codemirror_mode": {
    "name": "ipython",
    "version": 3
   },
   "file_extension": ".py",
   "mimetype": "text/x-python",
   "name": "python",
   "nbconvert_exporter": "python",
   "pygments_lexer": "ipython3",
   "version": "3.6.6"
  }
 },
 "nbformat": 4,
 "nbformat_minor": 2
}
